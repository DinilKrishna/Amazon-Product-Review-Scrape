{
 "cells": [
  {
   "cell_type": "code",
   "execution_count": 18,
   "id": "8aa4068b-4326-4fc5-babc-ff525b07a76a",
   "metadata": {},
   "outputs": [
    {
     "name": "stdout",
     "output_type": "stream",
     "text": [
      "Defaulting to user installation because normal site-packages is not writeable\n",
      "Requirement already satisfied: autoscraper in c:\\users\\hp\\appdata\\roaming\\python\\python311\\site-packages (1.1.14)\n",
      "Requirement already satisfied: requests in c:\\users\\hp\\appdata\\roaming\\python\\python311\\site-packages (from autoscraper) (2.31.0)\n",
      "Requirement already satisfied: bs4 in c:\\users\\hp\\appdata\\roaming\\python\\python311\\site-packages (from autoscraper) (0.0.2)\n",
      "Requirement already satisfied: lxml in c:\\users\\hp\\appdata\\roaming\\python\\python311\\site-packages (from autoscraper) (5.2.2)\n",
      "Requirement already satisfied: beautifulsoup4 in c:\\users\\hp\\appdata\\roaming\\python\\python311\\site-packages (from bs4->autoscraper) (4.12.3)\n",
      "Requirement already satisfied: charset-normalizer<4,>=2 in c:\\users\\hp\\appdata\\roaming\\python\\python311\\site-packages (from requests->autoscraper) (3.3.2)\n",
      "Requirement already satisfied: idna<4,>=2.5 in c:\\users\\hp\\appdata\\roaming\\python\\python311\\site-packages (from requests->autoscraper) (3.7)\n",
      "Requirement already satisfied: urllib3<3,>=1.21.1 in c:\\users\\hp\\appdata\\roaming\\python\\python311\\site-packages (from requests->autoscraper) (2.2.1)\n",
      "Requirement already satisfied: certifi>=2017.4.17 in c:\\users\\hp\\appdata\\roaming\\python\\python311\\site-packages (from requests->autoscraper) (2024.2.2)\n",
      "Requirement already satisfied: soupsieve>1.2 in c:\\users\\hp\\appdata\\roaming\\python\\python311\\site-packages (from beautifulsoup4->bs4->autoscraper) (2.5)\n"
     ]
    }
   ],
   "source": [
    "!pip install autoscraper"
   ]
  },
  {
   "cell_type": "code",
   "execution_count": 26,
   "id": "c235968e-73cf-4589-a4d2-9f4ce2fbef36",
   "metadata": {},
   "outputs": [],
   "source": [
    "from autoscraper import AutoScraper"
   ]
  },
  {
   "cell_type": "code",
   "execution_count": 44,
   "id": "69f089c9-22f5-4cb4-a15f-a88764224e36",
   "metadata": {},
   "outputs": [],
   "source": [
    "url = \"https://www.amazon.in/LOreal-Paris-Excellence-Natural-Darkest/product-reviews/B006QHB88O/ref=cm_cr_arp_d_paging_btm_next_2?ie=UTF8&reviewerType=all_reviews&pageNumber=1\"\n",
    "\n",
    "wanted_list = [\"Poonam k.\", \"Very good product\", \"Reviewed in India on 21 May 2024\", \"Easy to use , good quality, premium feeling . Overall a very good product\"]"
   ]
  },
  {
   "cell_type": "code",
   "execution_count": 45,
   "id": "43dd491d-d875-444a-8015-37244b219e4a",
   "metadata": {},
   "outputs": [],
   "source": [
    "scraper = AutoScraper()\n",
    "result = scraper.build(url, wanted_list)"
   ]
  },
  {
   "cell_type": "code",
   "execution_count": 46,
   "id": "82c1c24b-95be-43a8-bcd1-d34cae7f1f89",
   "metadata": {},
   "outputs": [
    {
     "name": "stdout",
     "output_type": "stream",
     "text": [
      "['Poonam k.', '1 big bowl sent', 'Garvika kaushik', 'Dimpal', 'Sudeshna Mohapatra', 'Ritu Singh', 'Rahul kumar', 'Manish Rao', 'Placeholder', 'Anup', 'Very good product', 'Beautiful color', 'Product quality, price and services....', 'Best colour', 'Does not last too long.', 'Best color', 'Effective on hair', 'Best price', 'Ingredient - Color cream tube missing', 'Good', 'Reviewed in India on 21 May 2024', 'Easy to use , good quality, premium feeling . Overall a very good product', 'Reviewed in India on 21 March 2024', 'Despite using color protective shampoos , it hardly lasted for ten days.', 'Reviewed in India on 16 May 2024', 'Reviewed in India on 14 May 2024', 'Reviewed in India on 8 May 2024', 'Reviewed in India on 4 May 2024', 'Reviewed in India on 19 May 2024', 'Reviewed in India on 17 May 2024', 'Reviewed in India on 3 April 2024', 'Light shiny brownish color. Satisfied with my purchase.', 'Delivery on time, Reasonable price... Good product 👍 ⭐⭐⭐⭐⭐', 'Dislike: priceLike : colour', 'Best hair color. Makes your hair very shiny and smooth and the conditioner we get with it is just awesome.', 'The color is staying for a long time and also not printing ur head skin black like a local color, lol', 'The color cream tube missing in the packet. Photograph attached. Please make a refund']\n"
     ]
    }
   ],
   "source": [
    "print(result)"
   ]
  },
  {
   "cell_type": "code",
   "execution_count": 47,
   "id": "914e58f0-6d76-48fe-9af2-c7caa68c2d86",
   "metadata": {},
   "outputs": [
    {
     "data": {
      "text/plain": [
       "{'rule_d1kv': ['Poonam k.',\n",
       "  '1 big bowl sent',\n",
       "  'Garvika kaushik',\n",
       "  'Dimpal',\n",
       "  'Sudeshna Mohapatra',\n",
       "  'Ritu Singh',\n",
       "  'Rahul kumar',\n",
       "  'Manish Rao',\n",
       "  'Placeholder',\n",
       "  'Anup'],\n",
       " 'rule_5ow2': ['Poonam k.', 'Sudeshna Mohapatra'],\n",
       " 'rule_g82i': ['Very good product',\n",
       "  'Beautiful color',\n",
       "  'Product quality, price and services....',\n",
       "  'Best colour',\n",
       "  'Does not last too long.',\n",
       "  'Best color',\n",
       "  'Effective on hair',\n",
       "  'Best price',\n",
       "  'Ingredient - Color cream tube missing',\n",
       "  'Good'],\n",
       " 'rule_q6vp': ['Very good product',\n",
       "  'Reviewed in India on 21 May 2024',\n",
       "  'Easy to use , good quality, premium feeling . Overall a very good product',\n",
       "  'Does not last too long.',\n",
       "  'Reviewed in India on 21 March 2024',\n",
       "  'Despite using color protective shampoos , it hardly lasted for ten days.'],\n",
       " 'rule_uj36': ['Reviewed in India on 21 May 2024',\n",
       "  'Reviewed in India on 16 May 2024',\n",
       "  'Reviewed in India on 14 May 2024',\n",
       "  'Reviewed in India on 16 May 2024',\n",
       "  'Reviewed in India on 21 March 2024',\n",
       "  'Reviewed in India on 8 May 2024',\n",
       "  'Reviewed in India on 4 May 2024',\n",
       "  'Reviewed in India on 19 May 2024',\n",
       "  'Reviewed in India on 17 May 2024',\n",
       "  'Reviewed in India on 3 April 2024'],\n",
       " 'rule_en8y': ['Reviewed in India on 21 May 2024',\n",
       "  'Reviewed in India on 21 March 2024'],\n",
       " 'rule_ba73': ['Easy to use , good quality, premium feeling . Overall a very good product',\n",
       "  'Light shiny brownish color. Satisfied with my purchase.',\n",
       "  'Delivery on time, Reasonable price... Good product 👍 ⭐⭐⭐⭐⭐',\n",
       "  'Dislike: priceLike : colour',\n",
       "  'Despite using color protective shampoos , it hardly lasted for ten days.',\n",
       "  'Best hair color. Makes your hair very shiny and smooth and the conditioner we get with it is just awesome.',\n",
       "  'The color is staying for a long time and also not printing ur head skin black like a local color, lol',\n",
       "  'Best price',\n",
       "  'The color cream tube missing in the packet. Photograph attached. Please make a refund',\n",
       "  'Good'],\n",
       " 'rule_tqus': ['Easy to use , good quality, premium feeling . Overall a very good product',\n",
       "  'Despite using color protective shampoos , it hardly lasted for ten days.']}"
      ]
     },
     "execution_count": 47,
     "metadata": {},
     "output_type": "execute_result"
    }
   ],
   "source": [
    "scraper.get_result_similar(url, grouped = True)"
   ]
  },
  {
   "cell_type": "code",
   "execution_count": 43,
   "id": "fe970a89-53a1-4c23-866e-dd6d967a3545",
   "metadata": {},
   "outputs": [],
   "source": [
    "scraper.set_rule_aliases({'rule_fao9': 'Name'})\n",
    "scraper.keep_rules(['rule_fao9'])\n",
    "scraper.save('amazon-review')"
   ]
  },
  {
   "cell_type": "code",
   "execution_count": null,
   "id": "e404bc0a-6a28-4b9c-b7a7-d84e49c13a3b",
   "metadata": {},
   "outputs": [],
   "source": []
  }
 ],
 "metadata": {
  "kernelspec": {
   "display_name": "Python 3 (ipykernel)",
   "language": "python",
   "name": "python3"
  },
  "language_info": {
   "codemirror_mode": {
    "name": "ipython",
    "version": 3
   },
   "file_extension": ".py",
   "mimetype": "text/x-python",
   "name": "python",
   "nbconvert_exporter": "python",
   "pygments_lexer": "ipython3",
   "version": "3.11.5"
  }
 },
 "nbformat": 4,
 "nbformat_minor": 5
}
